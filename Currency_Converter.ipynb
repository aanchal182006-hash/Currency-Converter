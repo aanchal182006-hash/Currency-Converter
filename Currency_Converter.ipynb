{
 "cells": [
  {
   "cell_type": "code",
   "execution_count": 1,
   "id": "4c6f14f5-5384-4f1d-9def-41ae63203b15",
   "metadata": {},
   "outputs": [],
   "source": [
    "import tkinter as tk\n",
    "from tkinter import ttk\n",
    "\n",
    "def convert():\n",
    "    from_currency = from_combo.get()\n",
    "    to_currency = to_combo.get()\n",
    "    try:\n",
    "        amount = float(amount_entry.get())\n",
    "    except ValueError:\n",
    "        result_label.config(text=\"Enter a valid number\")\n",
    "        return\n",
    "\n",
    "    # Dummy exchange rates for testing\n",
    "    if from_currency == \"USD\" and to_currency == \"INR\":\n",
    "        rate = 83\n",
    "    elif from_currency == \"INR\" and to_currency == \"USD\":\n",
    "        rate = 1 / 83\n",
    "    elif from_currency == to_currency:\n",
    "        rate = 1\n",
    "    else:\n",
    "        rate = 1.1  # default rate for any other case\n",
    "\n",
    "    result = amount * rate\n",
    "    result_label.config(\n",
    "        text=f\"{amount} {from_currency} = {result:.2f} {to_currency}\"\n",
    "    )\n",
    "Font = (\"Arial\",20,\"bold\")\n",
    "# Set up GUI window\n",
    "window = tk.Tk()\n",
    "window.title(\"Currency Converter\")\n",
    "\n",
    "# Amount entry\n",
    "tk.Label(window, text=\"Amount:\",font = Font).grid(row=0, column=0,sticky =\"e\",padx=20,pady=20)\n",
    "amount_entry = tk.Entry(window,font = Font,width= 21)\n",
    "amount_entry.grid(row=0, column=1,sticky=\"w\",padx=20,pady=20)\n",
    "\n",
    "# From currency\n",
    "tk.Label(window, text=\"From:\",font = Font).grid(row=1, column=0,sticky =\"e\",padx=20,pady=20)\n",
    "from_combo = ttk.Combobox(window, values=[\"USD\", \"INR\", \"EUR\", \"JPY\"], state=\"readonly\",font = Font)\n",
    "from_combo.grid(row=1, column=1,sticky=\"w\",padx=20,pady=20)\n",
    "\n",
    "# To currency\n",
    "tk.Label(window, text=\"To:\",font = Font).grid(row=2, column=0,sticky =\"e\",padx=20,pady=20)\n",
    "to_combo = ttk.Combobox(window, values=[\"USD\", \"INR\", \"EUR\", \"JPY\"], state=\"readonly\",font = Font)\n",
    "to_combo.grid(row=2, column=1,sticky=\"w\",padx=20,pady=20)\n",
    "\n",
    "# Convert button\n",
    "tk.Button(window, text=\"Convert\", command=convert,font = Font).grid(row=3, column=0, columnspan=2,padx=20,pady=20)\n",
    "\n",
    "# Result label\n",
    "result_label = tk.Label(window, text=\"\",font = Font,fg=\"red\")\n",
    "result_label.grid(row=4, column=0, columnspan=2,padx=20,pady=20)\n",
    "\n",
    "window.mainloop()"
   ]
  }
 ],
 "metadata": {
  "kernelspec": {
   "display_name": "Python 3 (ipykernel)",
   "language": "python",
   "name": "python3"
  },
  "language_info": {
   "codemirror_mode": {
    "name": "ipython",
    "version": 3
   },
   "file_extension": ".py",
   "mimetype": "text/x-python",
   "name": "python",
   "nbconvert_exporter": "python",
   "pygments_lexer": "ipython3",
   "version": "3.13.5"
  }
 },
 "nbformat": 4,
 "nbformat_minor": 5
}
